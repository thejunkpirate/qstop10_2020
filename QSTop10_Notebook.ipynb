{
 "cells": [
  {
   "cell_type": "code",
   "execution_count": 1,
   "metadata": {},
   "outputs": [],
   "source": [
    "import pandas as pd"
   ]
  },
  {
   "cell_type": "code",
   "execution_count": 2,
   "metadata": {},
   "outputs": [],
   "source": [
    "df = pd.read_csv(\"QSTop10.csv\")"
   ]
  },
  {
   "cell_type": "code",
   "execution_count": 3,
   "metadata": {},
   "outputs": [],
   "source": [
    "for col in ['switch', 'line', 'slowmo', 'ig', 'replayed']:\n",
    "    df[col] = pd.to_numeric(df[col], errors='coerce').fillna(0)\n",
    "for col in ['trick', 'obstacle', 'obstacledetail', 'location', 'notes']:\n",
    "    df[col] = df[col].str.lower()"
   ]
  },
  {
   "cell_type": "code",
   "execution_count": 4,
   "metadata": {},
   "outputs": [],
   "source": [
    "# df"
   ]
  },
  {
   "cell_type": "code",
   "execution_count": 5,
   "metadata": {},
   "outputs": [],
   "source": [
    "# total num_tricks\n",
    "num_tricks = pd.DataFrame(df.groupby('week')['rank'].max()).reset_index()\n",
    "num_tricks.columns = ['week', 'num_tricks']\n",
    "\n",
    "# total slowmo clips\n",
    "num_slowmo = pd.DataFrame(df.groupby('week').sum()['slowmo']).reset_index()\n",
    "num_slowmo.columns = ['week', 'num_slowmo']\n",
    "\n",
    "# total switch/nollie tricks\n",
    "num_switch = pd.DataFrame(df.groupby('week').sum()['switch']).reset_index()\n",
    "num_switch.columns = ['week', 'num_switch']\n",
    "\n",
    "# total tricks part of line\n",
    "num_line = pd.DataFrame(df.groupby('week').sum()['line']).reset_index()\n",
    "num_line.columns = ['week', 'num_line']\n",
    "\n",
    "# total IG tricks\n",
    "num_ig = pd.DataFrame(df.groupby('week').sum()['ig']).reset_index()\n",
    "num_ig.columns = ['week', 'num_ig']\n",
    "\n",
    "# total replayed tricks\n",
    "num_replayed = pd.DataFrame(df.groupby('week').sum()['replayed']).reset_index()\n",
    "num_replayed.columns = ['week', 'num_replayed']\n",
    "\n",
    "# total fs tricks\n",
    "num_fs = pd.DataFrame(df[['trick', 'week', 'obstacle']].drop_duplicates().groupby(['week'])['trick'].apply(lambda x: x[x.str.contains('fs ')].count())).reset_index()\n",
    "num_fs.columns = ['week', 'num_fs']\n",
    "\n",
    "# total bs tricks\n",
    "num_bs = pd.DataFrame(df[['trick', 'week', 'obstacle']].drop_duplicates().groupby(['week'])['trick'].apply(lambda x: x[x.str.contains('bs ')].count())).reset_index()\n",
    "num_bs.columns = ['week', 'num_bs']"
   ]
  },
  {
   "cell_type": "code",
   "execution_count": 6,
   "metadata": {},
   "outputs": [],
   "source": [
    "df_stats = df.merge(num_tricks).merge(num_slowmo).merge(num_switch).merge(num_line).merge(num_ig).merge(num_replayed).merge(num_fs).merge(num_bs)"
   ]
  },
  {
   "cell_type": "code",
   "execution_count": 7,
   "metadata": {},
   "outputs": [],
   "source": [
    "weeks = df.groupby('week')"
   ]
  },
  {
   "cell_type": "code",
   "execution_count": 8,
   "metadata": {},
   "outputs": [],
   "source": [
    "# percent stair\n",
    "perc_stair = pd.DataFrame(weeks['obstacle'].agg(lambda x: (len(x[x=='stairs'])) / len(x)))\n",
    "perc_stair = perc_stair.reset_index()\n",
    "perc_stair.columns = ['week', 'perc_stair']\n",
    "# print(\"Stairs: {}\".format(sum(perc_stair['perc_stair'])/perc_stair['week'].max()))\n",
    "\n",
    "# percent gap\n",
    "perc_gap = pd.DataFrame(weeks['obstacle'].agg(lambda x: (len(x[x=='gap'])) / len(x)))\n",
    "perc_gap = perc_gap.reset_index()\n",
    "perc_gap.columns = ['week', 'perc_gap']\n",
    "\n",
    "# percent ledge\n",
    "perc_ledge = pd.DataFrame(weeks['obstacle'].agg(lambda x: (len(x[x=='ledge'])) / len(x)))\n",
    "perc_ledge = perc_ledge.reset_index()\n",
    "perc_ledge.columns = ['week', 'perc_ledge']\n",
    "\n",
    "# percent manual\n",
    "perc_manual = pd.DataFrame(weeks['obstacle'].agg(lambda x: (len(x[x=='pad']) + len(x[x=='manual']) ) / len(x)))\n",
    "perc_manual = perc_manual.reset_index()\n",
    "perc_manual.columns = ['week', 'perc_manual']\n",
    "\n",
    "# percent transition\n",
    "perc_transition = pd.DataFrame(weeks['obstacle'].agg(lambda x: (len(x[x=='transistion'])) / len(x))) # yeah, I mispelled it in dataset\n",
    "perc_transition = perc_transition.reset_index()\n",
    "perc_transition.columns = ['week', 'perc_transition']\n",
    "\n",
    "# percent flat\n",
    "perc_flat = pd.DataFrame(weeks['obstacle'].agg(lambda x: (len(x[x=='flat'])) / len(x)))\n",
    "perc_flat = perc_flat.reset_index()\n",
    "perc_flat.columns = ['week', 'perc_flat']\n",
    "\n",
    "# percent hubba\n",
    "perc_hubba = pd.DataFrame(weeks['obstacledetail'].agg(lambda x: (len(x[x=='hubba'])) / len(x)))\n",
    "perc_hubba = perc_hubba.reset_index()\n",
    "perc_hubba.columns = ['week', 'perc_hubba']\n",
    "\n",
    "# percent handrail\n",
    "perc_handrail = pd.DataFrame(weeks['obstacledetail'].agg(lambda x: (len(x[x==r'handrail'])) / len(x)))\n",
    "perc_handrail = perc_handrail.reset_index()\n",
    "perc_handrail.columns = ['week', 'perc_handrail']\n",
    "\n",
    "# percent curb\n",
    "perc_curb = pd.DataFrame(weeks['obstacle'].agg(lambda x: (len(x[x=='curb'])) / len(x)))\n",
    "perc_curb = perc_curb.reset_index()\n",
    "perc_curb.columns = ['week', 'perc_curb']\n",
    "\n",
    "# percent Wall\n",
    "perc_wall = pd.DataFrame(weeks['obstacle'].agg(lambda x: (len(x[x=='wall'])) / len(x)))\n",
    "perc_wall = perc_wall.reset_index()\n",
    "perc_wall.columns = ['week', 'perc_wall']\n",
    "\n",
    "# percent Rail\n",
    "perc_rail = pd.DataFrame(weeks['obstacle'].agg(lambda x: (len(x[x=='rail'])) / len(x)))\n",
    "perc_rail = perc_rail.reset_index()\n",
    "perc_rail.columns = ['week', 'perc_rail']"
   ]
  },
  {
   "cell_type": "code",
   "execution_count": 9,
   "metadata": {},
   "outputs": [],
   "source": [
    "new_df = df\n",
    "for s in [num_tricks, num_slowmo, num_switch, num_fs, num_bs, num_replayed, num_ig, num_line,\n",
    "          perc_stair, perc_gap, perc_ledge, perc_manual, perc_transition, perc_flat, perc_hubba,\n",
    "          perc_rail, perc_handrail, perc_curb, perc_wall]:\n",
    "    new_df = new_df.merge(s)\n",
    "\n",
    "cols_to_keep = ['week', 'num_tricks', 'num_slowmo', 'num_switch',\n",
    "                'num_fs', 'num_bs', 'num_replayed', 'num_ig', 'num_line',\n",
    "                'perc_stair', 'perc_gap', 'perc_ledge', 'perc_manual', 'perc_transition',\n",
    "                'perc_hubba', 'perc_rail', 'perc_handrail', 'perc_curb', 'perc_flat', 'perc_wall']"
   ]
  },
  {
   "cell_type": "code",
   "execution_count": 10,
   "metadata": {},
   "outputs": [],
   "source": [
    "stats_df = new_df[cols_to_keep].drop_duplicates().reset_index().drop(columns='index')"
   ]
  },
  {
   "cell_type": "code",
   "execution_count": 11,
   "metadata": {},
   "outputs": [],
   "source": [
    "stats_df['perc_slowmo'] = stats_df.apply(lambda x: x['num_slowmo'] / x['num_tricks'], axis=1)\n",
    "\n",
    "stats_df['perc_switch'] = stats_df.apply(lambda x: x['num_switch'] / x['num_tricks'], axis=1)\n",
    "\n",
    "stats_df['perc_fs'] = stats_df.apply(lambda x: x['num_fs'] / x['num_tricks'], axis=1)\n",
    "\n",
    "stats_df['perc_bs'] = stats_df.apply(lambda x: x['num_bs'] / x['num_tricks'], axis=1)\n",
    "\n",
    "stats_df['perc_replayed'] = stats_df.apply(lambda x: x['num_replayed'] / x['num_tricks'], axis=1)\n",
    "\n",
    "stats_df['perc_ig'] = stats_df.apply(lambda x: x['num_ig'] / x['num_tricks'], axis=1)\n",
    "\n",
    "stats_df['perc_line'] = stats_df.apply(lambda x: x['num_line'] / x['num_tricks'], axis=1)\n",
    "\n",
    "stats_df = stats_df.drop(columns=['num_slowmo', 'num_switch',\n",
    "                                  'num_fs', 'num_bs', 'num_replayed', 'num_ig', 'num_line'])"
   ]
  },
  {
   "cell_type": "code",
   "execution_count": 12,
   "metadata": {},
   "outputs": [],
   "source": [
    "for col in ['perc_stair', 'perc_gap', 'perc_ledge', 'perc_manual', 'perc_transition',\n",
    "            'perc_hubba', 'perc_rail', 'perc_handrail', 'perc_curb', 'perc_flat',\n",
    "            'perc_slowmo', 'perc_switch', 'perc_fs', 'perc_bs', 'perc_wall', 'perc_replayed',\n",
    "            'perc_ig', 'perc_line']:\n",
    "    stats_df[col] = round(stats_df[col] * 100)"
   ]
  },
  {
   "cell_type": "code",
   "execution_count": 13,
   "metadata": {},
   "outputs": [],
   "source": [
    "average_percs = round(stats_df.sum()/stats_df['week'].max(), 1)"
   ]
  },
  {
   "cell_type": "code",
   "execution_count": 14,
   "metadata": {},
   "outputs": [],
   "source": [
    "#REGEX FUNCTIONS\n",
    "def skatercount(regex):\n",
    "    return df[df['skater'].str.contains(regex, na=False)].groupby('skater')['skater']\n",
    "\n",
    "\n",
    "def trickgroup(regex):\n",
    "    return df[df['trick'].str.contains(regex, na=False)].groupby('trick')['trick']\n",
    "\n",
    "\n",
    "def spotfind(regex):\n",
    "    return df[df['location'].str.contains(regex, na=False)].groupby('location')['location']\n",
    "\n",
    "\n",
    "def obstaclecount1(regex):\n",
    "    return df[df['obstacle'].str.contains(regex, na=False)].groupby('obstacle')['obstacle']\n",
    "\n",
    "\n",
    "def obstacledetailcount(regex):\n",
    "    return df[df['obstacledetail'].str.contains(regex, na=False)].groupby('obstacledetail')['obstacledetail']\n",
    "\n",
    "\n",
    "def noted(regex):\n",
    "    return df[df['notes'].str.contains(regex, na=False)].groupby('notes')['notes']"
   ]
  },
  {
   "cell_type": "markdown",
   "metadata": {},
   "source": [
    "# PERCENTAGES"
   ]
  },
  {
   "cell_type": "code",
   "execution_count": 15,
   "metadata": {},
   "outputs": [
    {
     "data": {
      "text/plain": [
       "week               25.0\n",
       "num_tricks         10.0\n",
       "perc_stair          8.6\n",
       "perc_gap           20.4\n",
       "perc_ledge         32.0\n",
       "perc_manual         7.6\n",
       "perc_transition     4.5\n",
       "perc_hubba          5.5\n",
       "perc_rail          12.0\n",
       "perc_handrail       5.9\n",
       "perc_curb           2.9\n",
       "perc_flat           4.1\n",
       "perc_wall           4.5\n",
       "perc_slowmo        33.3\n",
       "perc_switch        16.3\n",
       "perc_fs            29.2\n",
       "perc_bs            51.0\n",
       "perc_replayed      36.1\n",
       "perc_ig            21.6\n",
       "perc_line          28.0\n",
       "dtype: float64"
      ]
     },
     "execution_count": 15,
     "metadata": {},
     "output_type": "execute_result"
    }
   ],
   "source": [
    "average_percs"
   ]
  },
  {
   "cell_type": "markdown",
   "metadata": {},
   "source": [
    "##### Numbers of Slowmo, Switch/Nollie etc"
   ]
  },
  {
   "cell_type": "code",
   "execution_count": 16,
   "metadata": {},
   "outputs": [
    {
     "data": {
      "text/plain": [
       "week            1225.0\n",
       "num_slowmo       163.0\n",
       "num_switch        80.0\n",
       "num_replayed     177.0\n",
       "num_ig           106.0\n",
       "num_line         137.0\n",
       "dtype: float64"
      ]
     },
     "execution_count": 16,
     "metadata": {},
     "output_type": "execute_result"
    }
   ],
   "source": [
    "for s in [num_tricks, num_slowmo, num_switch, num_fs, num_bs, num_replayed, num_ig, num_line]:\n",
    "    num_df = new_df.merge(s)\n",
    "num_df = num_df[['week', 'num_slowmo', 'num_switch', 'num_replayed', 'num_ig', \n",
    "                        'num_line']].drop_duplicates().reset_index().drop(columns='index')\n",
    "num_df.sum()"
   ]
  },
  {
   "cell_type": "code",
   "execution_count": 17,
   "metadata": {},
   "outputs": [],
   "source": [
    "total_points = pd.DataFrame(df.groupby('skater')['points'].sum()).reset_index()\n",
    "total_points.columns = ['skater', 'total_points']\n",
    "top_points = total_points.sort_values(['total_points'], ascending=False)"
   ]
  },
  {
   "cell_type": "markdown",
   "metadata": {},
   "source": [
    "# TOP SKATERS By POINTS"
   ]
  },
  {
   "cell_type": "code",
   "execution_count": 18,
   "metadata": {},
   "outputs": [
    {
     "data": {
      "text/html": [
       "<div>\n",
       "<style scoped>\n",
       "    .dataframe tbody tr th:only-of-type {\n",
       "        vertical-align: middle;\n",
       "    }\n",
       "\n",
       "    .dataframe tbody tr th {\n",
       "        vertical-align: top;\n",
       "    }\n",
       "\n",
       "    .dataframe thead th {\n",
       "        text-align: right;\n",
       "    }\n",
       "</style>\n",
       "<table border=\"1\" class=\"dataframe\">\n",
       "  <thead>\n",
       "    <tr style=\"text-align: right;\">\n",
       "      <th></th>\n",
       "      <th>skater</th>\n",
       "      <th>total_points</th>\n",
       "    </tr>\n",
       "  </thead>\n",
       "  <tbody>\n",
       "    <tr>\n",
       "      <th>218</th>\n",
       "      <td>Mason Silva</td>\n",
       "      <td>55</td>\n",
       "    </tr>\n",
       "    <tr>\n",
       "      <th>202</th>\n",
       "      <td>Lucas Puig</td>\n",
       "      <td>42</td>\n",
       "    </tr>\n",
       "    <tr>\n",
       "      <th>327</th>\n",
       "      <td>Tom Knox</td>\n",
       "      <td>38</td>\n",
       "    </tr>\n",
       "    <tr>\n",
       "      <th>321</th>\n",
       "      <td>Tiago Lemos</td>\n",
       "      <td>35</td>\n",
       "    </tr>\n",
       "    <tr>\n",
       "      <th>16</th>\n",
       "      <td>Alexis Ramirez</td>\n",
       "      <td>33</td>\n",
       "    </tr>\n",
       "    <tr>\n",
       "      <th>135</th>\n",
       "      <td>Jacopo Carozzi</td>\n",
       "      <td>30</td>\n",
       "    </tr>\n",
       "    <tr>\n",
       "      <th>66</th>\n",
       "      <td>Cyrus Bennett</td>\n",
       "      <td>29</td>\n",
       "    </tr>\n",
       "    <tr>\n",
       "      <th>266</th>\n",
       "      <td>Pedro Delfino</td>\n",
       "      <td>29</td>\n",
       "    </tr>\n",
       "    <tr>\n",
       "      <th>248</th>\n",
       "      <td>Nik Stain</td>\n",
       "      <td>29</td>\n",
       "    </tr>\n",
       "    <tr>\n",
       "      <th>24</th>\n",
       "      <td>Antonio Durao</td>\n",
       "      <td>26</td>\n",
       "    </tr>\n",
       "    <tr>\n",
       "      <th>125</th>\n",
       "      <td>Hyun Kummer</td>\n",
       "      <td>26</td>\n",
       "    </tr>\n",
       "    <tr>\n",
       "      <th>337</th>\n",
       "      <td>Tyshawn Jones</td>\n",
       "      <td>25</td>\n",
       "    </tr>\n",
       "    <tr>\n",
       "      <th>346</th>\n",
       "      <td>Will Marshall</td>\n",
       "      <td>24</td>\n",
       "    </tr>\n",
       "    <tr>\n",
       "      <th>130</th>\n",
       "      <td>Jaakko Ojanen</td>\n",
       "      <td>23</td>\n",
       "    </tr>\n",
       "    <tr>\n",
       "      <th>50</th>\n",
       "      <td>Carl Aikens</td>\n",
       "      <td>23</td>\n",
       "    </tr>\n",
       "    <tr>\n",
       "      <th>236</th>\n",
       "      <td>Mike Arnold</td>\n",
       "      <td>22</td>\n",
       "    </tr>\n",
       "    <tr>\n",
       "      <th>15</th>\n",
       "      <td>Alexis Lacroix</td>\n",
       "      <td>21</td>\n",
       "    </tr>\n",
       "    <tr>\n",
       "      <th>51</th>\n",
       "      <td>Casper Brooker</td>\n",
       "      <td>21</td>\n",
       "    </tr>\n",
       "    <tr>\n",
       "      <th>159</th>\n",
       "      <td>John Shanahan</td>\n",
       "      <td>21</td>\n",
       "    </tr>\n",
       "    <tr>\n",
       "      <th>199</th>\n",
       "      <td>Louie Lopez</td>\n",
       "      <td>20</td>\n",
       "    </tr>\n",
       "    <tr>\n",
       "      <th>239</th>\n",
       "      <td>Milton Martinez</td>\n",
       "      <td>20</td>\n",
       "    </tr>\n",
       "    <tr>\n",
       "      <th>108</th>\n",
       "      <td>Giovanni Vianna</td>\n",
       "      <td>19</td>\n",
       "    </tr>\n",
       "    <tr>\n",
       "      <th>216</th>\n",
       "      <td>Martino Cattaneo</td>\n",
       "      <td>19</td>\n",
       "    </tr>\n",
       "    <tr>\n",
       "      <th>43</th>\n",
       "      <td>Brandon Turner</td>\n",
       "      <td>19</td>\n",
       "    </tr>\n",
       "    <tr>\n",
       "      <th>27</th>\n",
       "      <td>Axel Cruysberghs</td>\n",
       "      <td>19</td>\n",
       "    </tr>\n",
       "    <tr>\n",
       "      <th>247</th>\n",
       "      <td>Nick Michel</td>\n",
       "      <td>18</td>\n",
       "    </tr>\n",
       "    <tr>\n",
       "      <th>94</th>\n",
       "      <td>Elijah Berle</td>\n",
       "      <td>17</td>\n",
       "    </tr>\n",
       "    <tr>\n",
       "      <th>13</th>\n",
       "      <td>Alex Wllms</td>\n",
       "      <td>17</td>\n",
       "    </tr>\n",
       "    <tr>\n",
       "      <th>99</th>\n",
       "      <td>Evan Smith</td>\n",
       "      <td>16</td>\n",
       "    </tr>\n",
       "    <tr>\n",
       "      <th>276</th>\n",
       "      <td>Rob Maatman</td>\n",
       "      <td>16</td>\n",
       "    </tr>\n",
       "    <tr>\n",
       "      <th>344</th>\n",
       "      <td>Vincent Milou</td>\n",
       "      <td>16</td>\n",
       "    </tr>\n",
       "    <tr>\n",
       "      <th>0</th>\n",
       "      <td>AVE</td>\n",
       "      <td>16</td>\n",
       "    </tr>\n",
       "    <tr>\n",
       "      <th>177</th>\n",
       "      <td>Karsten Kleppan</td>\n",
       "      <td>16</td>\n",
       "    </tr>\n",
       "    <tr>\n",
       "      <th>269</th>\n",
       "      <td>Philly Santosuosso</td>\n",
       "      <td>15</td>\n",
       "    </tr>\n",
       "    <tr>\n",
       "      <th>131</th>\n",
       "      <td>Jack O’Grady</td>\n",
       "      <td>15</td>\n",
       "    </tr>\n",
       "  </tbody>\n",
       "</table>\n",
       "</div>"
      ],
      "text/plain": [
       "                 skater  total_points\n",
       "218         Mason Silva            55\n",
       "202          Lucas Puig            42\n",
       "327            Tom Knox            38\n",
       "321         Tiago Lemos            35\n",
       "16       Alexis Ramirez            33\n",
       "135      Jacopo Carozzi            30\n",
       "66        Cyrus Bennett            29\n",
       "266       Pedro Delfino            29\n",
       "248           Nik Stain            29\n",
       "24        Antonio Durao            26\n",
       "125         Hyun Kummer            26\n",
       "337       Tyshawn Jones            25\n",
       "346       Will Marshall            24\n",
       "130       Jaakko Ojanen            23\n",
       "50          Carl Aikens            23\n",
       "236         Mike Arnold            22\n",
       "15       Alexis Lacroix            21\n",
       "51       Casper Brooker            21\n",
       "159       John Shanahan            21\n",
       "199        Louie Lopez             20\n",
       "239     Milton Martinez            20\n",
       "108     Giovanni Vianna            19\n",
       "216    Martino Cattaneo            19\n",
       "43       Brandon Turner            19\n",
       "27     Axel Cruysberghs            19\n",
       "247         Nick Michel            18\n",
       "94         Elijah Berle            17\n",
       "13           Alex Wllms            17\n",
       "99           Evan Smith            16\n",
       "276         Rob Maatman            16\n",
       "344       Vincent Milou            16\n",
       "0                   AVE            16\n",
       "177     Karsten Kleppan            16\n",
       "269  Philly Santosuosso            15\n",
       "131        Jack O’Grady            15"
      ]
     },
     "execution_count": 18,
     "metadata": {},
     "output_type": "execute_result"
    }
   ],
   "source": [
    "top_points.head(35)\n",
    "# top_points.head(35).to_csv('/Users/peteglover/Desktop/QS_points.csv')"
   ]
  },
  {
   "cell_type": "markdown",
   "metadata": {},
   "source": [
    "# TOP SKATERS by APPEARANCES"
   ]
  },
  {
   "cell_type": "code",
   "execution_count": 19,
   "metadata": {},
   "outputs": [
    {
     "data": {
      "text/plain": [
       "skater\n",
       "Lucas Puig             6\n",
       "Mason Silva            6\n",
       "Tom Knox               5\n",
       "Will Marshall          5\n",
       "Tiago Lemos            4\n",
       "Louie Lopez            4\n",
       "Hyun Kummer            4\n",
       "Carl Aikens            4\n",
       "Antonio Durao          4\n",
       "Jacopo Carozzi         4\n",
       "Alexis Ramirez         4\n",
       "Nik Stain              4\n",
       "Cyrus Bennett          4\n",
       "John Shanahan          4\n",
       "Mike Arnold            3\n",
       "Milton Martinez        3\n",
       "Oskar Rozenberg        3\n",
       "Pedro Attenborough     3\n",
       "Martino Cattaneo       3\n",
       "Pedro Delfino          3\n",
       "Giovanni Vianna        3\n",
       "Marcello Campanello    3\n",
       "Gustav Tonnesen        3\n",
       "Remy Taveira           3\n",
       "Max Palmer             3\n",
       "Casper Brooker         3\n",
       "Alexis Lacroix         3\n",
       "Ish Cepeda             3\n",
       "Karsten Kleppan        3\n",
       "Ville Wester           3\n",
       "Jaakko Ojanen          3\n",
       "Tyshawn Jones          3\n",
       "Zered                  3\n",
       "Hjalte Halberg         3\n",
       "Rob Maatman            2\n",
       "Name: skater, dtype: int64"
      ]
     },
     "execution_count": 19,
     "metadata": {},
     "output_type": "execute_result"
    }
   ],
   "source": [
    "appearances = skatercount(r\"\").count().sort_values(ascending=False)\n",
    "appearances.head(35)"
   ]
  },
  {
   "cell_type": "code",
   "execution_count": 20,
   "metadata": {},
   "outputs": [
    {
     "data": {
      "text/plain": [
       "14"
      ]
     },
     "execution_count": 20,
     "metadata": {},
     "output_type": "execute_result"
    }
   ],
   "source": [
    "yes = [i for i in appearances.values if i > 3]\n",
    "len(yes)"
   ]
  },
  {
   "cell_type": "code",
   "execution_count": null,
   "metadata": {},
   "outputs": [],
   "source": []
  },
  {
   "cell_type": "code",
   "execution_count": 21,
   "metadata": {},
   "outputs": [
    {
     "name": "stdout",
     "output_type": "stream",
     "text": [
      "Unique skaters in #QSTop10 2020: 354\n"
     ]
    }
   ],
   "source": [
    "print(\"Unique skaters in #QSTop10 2020: {}\".format(len(skatercount(r\"\"))))"
   ]
  },
  {
   "cell_type": "markdown",
   "metadata": {},
   "source": [
    "# Total Number of TRICKS"
   ]
  },
  {
   "cell_type": "code",
   "execution_count": 22,
   "metadata": {},
   "outputs": [],
   "source": [
    "total_tricks = num_tricks['num_tricks'].sum()"
   ]
  },
  {
   "cell_type": "code",
   "execution_count": 23,
   "metadata": {},
   "outputs": [
    {
     "data": {
      "text/plain": [
       "490"
      ]
     },
     "execution_count": 23,
     "metadata": {},
     "output_type": "execute_result"
    }
   ],
   "source": [
    "total_tricks"
   ]
  },
  {
   "cell_type": "markdown",
   "metadata": {},
   "source": [
    "# Number of UNIQUE TRICKS"
   ]
  },
  {
   "cell_type": "code",
   "execution_count": 24,
   "metadata": {},
   "outputs": [],
   "source": [
    "unique_tricks = []\n",
    "for i in df['trick']:\n",
    "    if i not in unique_tricks:\n",
    "        unique_tricks.append(i)"
   ]
  },
  {
   "cell_type": "code",
   "execution_count": 25,
   "metadata": {},
   "outputs": [
    {
     "data": {
      "text/plain": [
       "370"
      ]
     },
     "execution_count": 25,
     "metadata": {},
     "output_type": "execute_result"
    }
   ],
   "source": [
    "len(unique_tricks)"
   ]
  },
  {
   "cell_type": "code",
   "execution_count": 26,
   "metadata": {},
   "outputs": [
    {
     "name": "stdout",
     "output_type": "stream",
     "text": [
      "Percentage Tricks that are Unique: 75.5\n"
     ]
    }
   ],
   "source": [
    "print('Percentage Tricks that are Unique: {}'.format(round(len(unique_tricks)/total_tricks*100, 1)))"
   ]
  },
  {
   "cell_type": "markdown",
   "metadata": {},
   "source": [
    "# TOP TRICKS"
   ]
  },
  {
   "cell_type": "code",
   "execution_count": 27,
   "metadata": {},
   "outputs": [
    {
     "data": {
      "text/plain": [
       "trick\n",
       "ollie                              16\n",
       "kickflip                           15\n",
       "360flip                            11\n",
       "bs kickflip                         6\n",
       "bs boardslide                       5\n",
       "hardflip                            5\n",
       "switch hardflip                     5\n",
       "bs lipslide                         5\n",
       "fs 50-50                            5\n",
       "switch kickflip                     4\n",
       "bs 360 ollie                        4\n",
       "fs lipslide                         4\n",
       "bs nosebluntslide                   4\n",
       "bs 50-50                            4\n",
       "bs noseslide                        4\n",
       "heelflip                            3\n",
       "switch fs kickflip                  3\n",
       "switch bs shove                     3\n",
       "bs wallride                         3\n",
       "switch fs crooked                   3\n",
       "bs noseslide to nollie kickflip     3\n",
       "nollie bs heelflip                  2\n",
       "nollie fs 360                       2\n",
       "bs bluntslide                       2\n",
       "bs caballerial                      2\n",
       "Name: trick, dtype: int64"
      ]
     },
     "execution_count": 27,
     "metadata": {},
     "output_type": "execute_result"
    }
   ],
   "source": [
    "toptricks = trickgroup(r\"\").count().sort_values(ascending=False)\n",
    "toptricks.head(25)"
   ]
  },
  {
   "cell_type": "code",
   "execution_count": 28,
   "metadata": {},
   "outputs": [
    {
     "data": {
      "text/plain": [
       "26"
      ]
     },
     "execution_count": 28,
     "metadata": {},
     "output_type": "execute_result"
    }
   ],
   "source": [
    "yes1 = [i for i in toptricks.values if i == 2] #i == number of occurances\n",
    "# 26 tricks happened twice\n",
    "len(yes1)"
   ]
  },
  {
   "cell_type": "markdown",
   "metadata": {},
   "source": [
    "## Trickfinder"
   ]
  },
  {
   "cell_type": "code",
   "execution_count": 29,
   "metadata": {},
   "outputs": [
    {
     "data": {
      "text/plain": [
       "trick\n",
       "switch slappy fs crooked to fakie kickflip        1\n",
       "slappy ollie to bs nosebluntslide                 1\n",
       "slappy fs crooked to nollie bs kickflip           1\n",
       "slappy fs crooked                                 1\n",
       "slappy bs smith                                   1\n",
       "slappy bs nosebluntslide                          1\n",
       "slappy bs 50-50                                   1\n",
       "fs slappy nosegrind                               1\n",
       "fakie slappy to fakie manual to fakie kickflip    1\n",
       "Name: trick, dtype: int64"
      ]
     },
     "execution_count": 29,
     "metadata": {},
     "output_type": "execute_result"
    }
   ],
   "source": [
    "trickfind = trickgroup(r\"slap\").count().sort_values(ascending=False)\n",
    "trickfind"
   ]
  },
  {
   "cell_type": "code",
   "execution_count": 30,
   "metadata": {},
   "outputs": [
    {
     "data": {
      "text/plain": [
       "9"
      ]
     },
     "execution_count": 30,
     "metadata": {},
     "output_type": "execute_result"
    }
   ],
   "source": [
    "yes2 = [i for i in trickfind.values]\n",
    "sum(yes2)"
   ]
  },
  {
   "cell_type": "markdown",
   "metadata": {},
   "source": [
    "# OBSTACLES"
   ]
  },
  {
   "cell_type": "code",
   "execution_count": 31,
   "metadata": {},
   "outputs": [
    {
     "data": {
      "text/plain": [
       "obstacle\n",
       "ledge          157\n",
       "gap            100\n",
       "rail            59\n",
       "stairs          42\n",
       "pad             37\n",
       "wall            22\n",
       "transistion     22\n",
       "flat            20\n",
       "curb            14\n",
       "hip              8\n",
       "bank             6\n",
       "pole             3\n",
       "Name: obstacle, dtype: int64"
      ]
     },
     "execution_count": 31,
     "metadata": {},
     "output_type": "execute_result"
    }
   ],
   "source": [
    "obstaclecount1(r\"\").count().sort_values(ascending=False)"
   ]
  },
  {
   "cell_type": "markdown",
   "metadata": {},
   "source": [
    "# OBSTACLE DETAILS"
   ]
  },
  {
   "cell_type": "code",
   "execution_count": 32,
   "metadata": {},
   "outputs": [
    {
     "data": {
      "text/plain": [
       "obstacledetail\n",
       "over rail                 22\n",
       "over barrier              10\n",
       "over rail into bank        8\n",
       "over trash can             7\n",
       "over bench                 3\n",
       "over wall                  2\n",
       "over trash can to curb     2\n",
       "over hydrant               2\n",
       "over fence                 2\n",
       "bump to over bar           1\n",
       "Name: obstacledetail, dtype: int64"
      ]
     },
     "execution_count": 32,
     "metadata": {},
     "output_type": "execute_result"
    }
   ],
   "source": [
    "over = obstacledetailcount(r\"over\").count().sort_values(ascending=False) #for \"over\" obstacles\n",
    "over"
   ]
  },
  {
   "cell_type": "code",
   "execution_count": 33,
   "metadata": {},
   "outputs": [
    {
     "data": {
      "text/plain": [
       "59"
      ]
     },
     "execution_count": 33,
     "metadata": {},
     "output_type": "execute_result"
    }
   ],
   "source": [
    "sum(i for i in over)"
   ]
  },
  {
   "cell_type": "markdown",
   "metadata": {},
   "source": [
    "## Obstacle Detail Finder"
   ]
  },
  {
   "cell_type": "code",
   "execution_count": 34,
   "metadata": {},
   "outputs": [
    {
     "data": {
      "text/plain": [
       "obstacledetail\n",
       "up stairs            11\n",
       "wall to up stairs     1\n",
       "upwards pad           1\n",
       "up ledge              1\n",
       "up gap                1\n",
       "Name: obstacledetail, dtype: int64"
      ]
     },
     "execution_count": 34,
     "metadata": {},
     "output_type": "execute_result"
    }
   ],
   "source": [
    "details = obstacledetailcount(r\"up\").count().sort_values(ascending=False) #enter whatever detail to track\n",
    "details.head(40)"
   ]
  },
  {
   "cell_type": "code",
   "execution_count": 35,
   "metadata": {},
   "outputs": [
    {
     "data": {
      "text/plain": [
       "15"
      ]
     },
     "execution_count": 35,
     "metadata": {},
     "output_type": "execute_result"
    }
   ],
   "source": [
    "sum(i for i in details)"
   ]
  },
  {
   "cell_type": "markdown",
   "metadata": {},
   "source": [
    "# Top Numbers BY SKATER (IG, Switch, etc.)"
   ]
  },
  {
   "cell_type": "code",
   "execution_count": 36,
   "metadata": {},
   "outputs": [
    {
     "data": {
      "text/html": [
       "<div>\n",
       "<style scoped>\n",
       "    .dataframe tbody tr th:only-of-type {\n",
       "        vertical-align: middle;\n",
       "    }\n",
       "\n",
       "    .dataframe tbody tr th {\n",
       "        vertical-align: top;\n",
       "    }\n",
       "\n",
       "    .dataframe thead th {\n",
       "        text-align: right;\n",
       "    }\n",
       "</style>\n",
       "<table border=\"1\" class=\"dataframe\">\n",
       "  <thead>\n",
       "    <tr style=\"text-align: right;\">\n",
       "      <th></th>\n",
       "      <th>line</th>\n",
       "      <th>switch</th>\n",
       "      <th>slowmo</th>\n",
       "      <th>ig</th>\n",
       "      <th>replayed</th>\n",
       "    </tr>\n",
       "    <tr>\n",
       "      <th>skater</th>\n",
       "      <th></th>\n",
       "      <th></th>\n",
       "      <th></th>\n",
       "      <th></th>\n",
       "      <th></th>\n",
       "    </tr>\n",
       "  </thead>\n",
       "  <tbody>\n",
       "    <tr>\n",
       "      <th>Mason Silva</th>\n",
       "      <td>0.0</td>\n",
       "      <td>0.0</td>\n",
       "      <td>3.0</td>\n",
       "      <td>2.0</td>\n",
       "      <td>5.0</td>\n",
       "    </tr>\n",
       "    <tr>\n",
       "      <th>Alexis Ramirez</th>\n",
       "      <td>0.0</td>\n",
       "      <td>0.0</td>\n",
       "      <td>3.0</td>\n",
       "      <td>1.0</td>\n",
       "      <td>3.0</td>\n",
       "    </tr>\n",
       "    <tr>\n",
       "      <th>Giovanni Vianna</th>\n",
       "      <td>0.0</td>\n",
       "      <td>0.0</td>\n",
       "      <td>3.0</td>\n",
       "      <td>0.0</td>\n",
       "      <td>3.0</td>\n",
       "    </tr>\n",
       "    <tr>\n",
       "      <th>Louie Lopez</th>\n",
       "      <td>3.0</td>\n",
       "      <td>0.0</td>\n",
       "      <td>1.0</td>\n",
       "      <td>0.0</td>\n",
       "      <td>3.0</td>\n",
       "    </tr>\n",
       "    <tr>\n",
       "      <th>Lucas Puig</th>\n",
       "      <td>1.0</td>\n",
       "      <td>6.0</td>\n",
       "      <td>5.0</td>\n",
       "      <td>4.0</td>\n",
       "      <td>3.0</td>\n",
       "    </tr>\n",
       "    <tr>\n",
       "      <th>Cyrus Bennett</th>\n",
       "      <td>0.0</td>\n",
       "      <td>0.0</td>\n",
       "      <td>0.0</td>\n",
       "      <td>2.0</td>\n",
       "      <td>2.0</td>\n",
       "    </tr>\n",
       "    <tr>\n",
       "      <th>Jack O’Grady</th>\n",
       "      <td>0.0</td>\n",
       "      <td>0.0</td>\n",
       "      <td>2.0</td>\n",
       "      <td>0.0</td>\n",
       "      <td>2.0</td>\n",
       "    </tr>\n",
       "    <tr>\n",
       "      <th>Tyshawn Jones</th>\n",
       "      <td>0.0</td>\n",
       "      <td>1.0</td>\n",
       "      <td>2.0</td>\n",
       "      <td>3.0</td>\n",
       "      <td>2.0</td>\n",
       "    </tr>\n",
       "    <tr>\n",
       "      <th>Oskar Rozenberg</th>\n",
       "      <td>2.0</td>\n",
       "      <td>0.0</td>\n",
       "      <td>0.0</td>\n",
       "      <td>3.0</td>\n",
       "      <td>2.0</td>\n",
       "    </tr>\n",
       "    <tr>\n",
       "      <th>Tiago Lemos</th>\n",
       "      <td>2.0</td>\n",
       "      <td>1.0</td>\n",
       "      <td>3.0</td>\n",
       "      <td>1.0</td>\n",
       "      <td>2.0</td>\n",
       "    </tr>\n",
       "  </tbody>\n",
       "</table>\n",
       "</div>"
      ],
      "text/plain": [
       "                 line  switch  slowmo   ig  replayed\n",
       "skater                                              \n",
       "Mason Silva       0.0     0.0     3.0  2.0       5.0\n",
       "Alexis Ramirez    0.0     0.0     3.0  1.0       3.0\n",
       "Giovanni Vianna   0.0     0.0     3.0  0.0       3.0\n",
       "Louie Lopez       3.0     0.0     1.0  0.0       3.0\n",
       "Lucas Puig        1.0     6.0     5.0  4.0       3.0\n",
       "Cyrus Bennett     0.0     0.0     0.0  2.0       2.0\n",
       "Jack O’Grady      0.0     0.0     2.0  0.0       2.0\n",
       "Tyshawn Jones     0.0     1.0     2.0  3.0       2.0\n",
       "Oskar Rozenberg   2.0     0.0     0.0  3.0       2.0\n",
       "Tiago Lemos       2.0     1.0     3.0  1.0       2.0"
      ]
     },
     "execution_count": 36,
     "metadata": {},
     "output_type": "execute_result"
    }
   ],
   "source": [
    "byskater = df.groupby('skater').sum()\n",
    "byskater = byskater.sort_values('replayed', ascending=False) # sorts by column HERE\n",
    "byskater = byskater.drop(columns=['week', 'rank', 'points'])\n",
    "byskater.head(10)"
   ]
  },
  {
   "cell_type": "markdown",
   "metadata": {},
   "source": [
    "# Top Numbers by WEEK (ig, slowmo, etc.)"
   ]
  },
  {
   "cell_type": "code",
   "execution_count": 37,
   "metadata": {},
   "outputs": [
    {
     "data": {
      "text/html": [
       "<div>\n",
       "<style scoped>\n",
       "    .dataframe tbody tr th:only-of-type {\n",
       "        vertical-align: middle;\n",
       "    }\n",
       "\n",
       "    .dataframe tbody tr th {\n",
       "        vertical-align: top;\n",
       "    }\n",
       "\n",
       "    .dataframe thead th {\n",
       "        text-align: right;\n",
       "    }\n",
       "</style>\n",
       "<table border=\"1\" class=\"dataframe\">\n",
       "  <thead>\n",
       "    <tr style=\"text-align: right;\">\n",
       "      <th></th>\n",
       "      <th>line</th>\n",
       "      <th>switch</th>\n",
       "      <th>slowmo</th>\n",
       "      <th>ig</th>\n",
       "      <th>replayed</th>\n",
       "    </tr>\n",
       "    <tr>\n",
       "      <th>week</th>\n",
       "      <th></th>\n",
       "      <th></th>\n",
       "      <th></th>\n",
       "      <th></th>\n",
       "      <th></th>\n",
       "    </tr>\n",
       "  </thead>\n",
       "  <tbody>\n",
       "    <tr>\n",
       "      <th>49</th>\n",
       "      <td>3.0</td>\n",
       "      <td>2.0</td>\n",
       "      <td>2.0</td>\n",
       "      <td>0.0</td>\n",
       "      <td>4.0</td>\n",
       "    </tr>\n",
       "    <tr>\n",
       "      <th>47</th>\n",
       "      <td>3.0</td>\n",
       "      <td>1.0</td>\n",
       "      <td>4.0</td>\n",
       "      <td>0.0</td>\n",
       "      <td>7.0</td>\n",
       "    </tr>\n",
       "    <tr>\n",
       "      <th>46</th>\n",
       "      <td>1.0</td>\n",
       "      <td>4.0</td>\n",
       "      <td>6.0</td>\n",
       "      <td>0.0</td>\n",
       "      <td>7.0</td>\n",
       "    </tr>\n",
       "    <tr>\n",
       "      <th>44</th>\n",
       "      <td>6.0</td>\n",
       "      <td>2.0</td>\n",
       "      <td>7.0</td>\n",
       "      <td>0.0</td>\n",
       "      <td>4.0</td>\n",
       "    </tr>\n",
       "    <tr>\n",
       "      <th>29</th>\n",
       "      <td>4.0</td>\n",
       "      <td>1.0</td>\n",
       "      <td>2.0</td>\n",
       "      <td>0.0</td>\n",
       "      <td>1.0</td>\n",
       "    </tr>\n",
       "    <tr>\n",
       "      <th>16</th>\n",
       "      <td>3.0</td>\n",
       "      <td>0.0</td>\n",
       "      <td>6.0</td>\n",
       "      <td>0.0</td>\n",
       "      <td>6.0</td>\n",
       "    </tr>\n",
       "    <tr>\n",
       "      <th>14</th>\n",
       "      <td>4.0</td>\n",
       "      <td>2.0</td>\n",
       "      <td>5.0</td>\n",
       "      <td>0.0</td>\n",
       "      <td>6.0</td>\n",
       "    </tr>\n",
       "    <tr>\n",
       "      <th>43</th>\n",
       "      <td>4.0</td>\n",
       "      <td>1.0</td>\n",
       "      <td>5.0</td>\n",
       "      <td>1.0</td>\n",
       "      <td>5.0</td>\n",
       "    </tr>\n",
       "    <tr>\n",
       "      <th>40</th>\n",
       "      <td>3.0</td>\n",
       "      <td>3.0</td>\n",
       "      <td>4.0</td>\n",
       "      <td>1.0</td>\n",
       "      <td>4.0</td>\n",
       "    </tr>\n",
       "    <tr>\n",
       "      <th>36</th>\n",
       "      <td>2.0</td>\n",
       "      <td>2.0</td>\n",
       "      <td>4.0</td>\n",
       "      <td>1.0</td>\n",
       "      <td>4.0</td>\n",
       "    </tr>\n",
       "  </tbody>\n",
       "</table>\n",
       "</div>"
      ],
      "text/plain": [
       "      line  switch  slowmo   ig  replayed\n",
       "week                                     \n",
       "49     3.0     2.0     2.0  0.0       4.0\n",
       "47     3.0     1.0     4.0  0.0       7.0\n",
       "46     1.0     4.0     6.0  0.0       7.0\n",
       "44     6.0     2.0     7.0  0.0       4.0\n",
       "29     4.0     1.0     2.0  0.0       1.0\n",
       "16     3.0     0.0     6.0  0.0       6.0\n",
       "14     4.0     2.0     5.0  0.0       6.0\n",
       "43     4.0     1.0     5.0  1.0       5.0\n",
       "40     3.0     3.0     4.0  1.0       4.0\n",
       "36     2.0     2.0     4.0  1.0       4.0"
      ]
     },
     "execution_count": 37,
     "metadata": {},
     "output_type": "execute_result"
    }
   ],
   "source": [
    "byweek = df.groupby('week').sum()\n",
    "byweek = byweek.sort_values('ig', ascending=True) # sorts by column, change ascending to get lowest\n",
    "byweek = byweek.drop(columns=['rank', 'points'])\n",
    "byweek.head(10)"
   ]
  },
  {
   "cell_type": "markdown",
   "metadata": {},
   "source": [
    "# Top SPOTS"
   ]
  },
  {
   "cell_type": "code",
   "execution_count": 38,
   "metadata": {},
   "outputs": [
    {
     "data": {
      "text/plain": [
       "location\n",
       "skatepark                    18\n",
       "sf hills                      8\n",
       "diy park                      7\n",
       "milan                         7\n",
       "pulaski                       5\n",
       "museum of natural history     5\n",
       "indoor park                   4\n",
       "art sculpture                 4\n",
       "blubba                        4\n",
       "majorca                       3\n",
       "oakland courthouse            3\n",
       "zuccotti park                 3\n",
       "south bank                    3\n",
       "macba                         2\n",
       "round and round planter       2\n",
       "3rd & army                    2\n",
       "union square sf               2\n",
       "stalin plaza                  2\n",
       "staples center                2\n",
       "tekashi ten                   2\n",
       "emb                           1\n",
       "columbus park                 1\n",
       "clipper                       1\n",
       "citi field benches            1\n",
       "china banks                   1\n",
       "chain                         1\n",
       "big spool                     1\n",
       "bronx courthouse              1\n",
       "cbs                           1\n",
       "cardiel ledge, sf             1\n",
       "ft. miley                     1\n",
       "c benches                     1\n",
       "brooklyn banks                1\n",
       "flushings fountain            1\n",
       "lloyds                        1\n",
       "gare de lyon                  1\n",
       "hudson river park             1\n",
       "vale anhangabau               1\n",
       "union square                  1\n",
       "tree stump                    1\n",
       "sf fountain                   1\n",
       "santa monica ledges           1\n",
       "rector st.                    1\n",
       "pyramid ledges                1\n",
       "pool                          1\n",
       "pile of garbage               1\n",
       "max palmer park               1\n",
       "wallenberg                    1\n",
       "la high                       1\n",
       "la dome                       1\n",
       "la city hall                  1\n",
       "kinked flat rail              1\n",
       "3 up 3 down                   1\n",
       "Name: location, dtype: int64"
      ]
     },
     "execution_count": 38,
     "metadata": {},
     "output_type": "execute_result"
    }
   ],
   "source": [
    "spotfind(r\"\").count().sort_values(ascending=False)"
   ]
  },
  {
   "cell_type": "markdown",
   "metadata": {},
   "source": [
    "# NOTES"
   ]
  },
  {
   "cell_type": "code",
   "execution_count": 39,
   "metadata": {},
   "outputs": [
    {
     "data": {
      "text/plain": [
       "notes\n",
       "quick footed                                27\n",
       "crazy obstacle                              26\n",
       "combo                                       14\n",
       "5 trick line                                 8\n",
       "woman skater                                 6\n",
       "6 trick line                                 5\n",
       "                                             4\n",
       "on novelty board                             3\n",
       "trans skater                                 3\n",
       "7 trick line                                 2\n",
       "wrong name in titles, corrected              2\n",
       "4 kickflip line                              1\n",
       "5 kickflip line                              1\n",
       "berrics                                      1\n",
       "3 different tricks to #1                     1\n",
       "3 360flip line                               1\n",
       "8 trick line                                 1\n",
       "aka hank scorsese                            1\n",
       "wrong name in titles.                        1\n",
       "black history top ten on 6/5/2020            1\n",
       "wrong name in titles, corrected : tow in     1\n",
       "first quarantine countdown                   1\n",
       "going by instagram handle                    1\n",
       "new look                                     1\n",
       "quick footed / combo                         1\n",
       "reddit                                       1\n",
       "self filmed                                  1\n",
       "tampa pro                                    1\n",
       "didn’t quite land the manual                 1\n",
       "Name: notes, dtype: int64"
      ]
     },
     "execution_count": 39,
     "metadata": {},
     "output_type": "execute_result"
    }
   ],
   "source": [
    "noted(r\"\").count().sort_values(ascending=False)"
   ]
  },
  {
   "cell_type": "code",
   "execution_count": null,
   "metadata": {},
   "outputs": [],
   "source": []
  }
 ],
 "metadata": {
  "kernelspec": {
   "display_name": "Python 3",
   "language": "python",
   "name": "python3"
  },
  "language_info": {
   "codemirror_mode": {
    "name": "ipython",
    "version": 3
   },
   "file_extension": ".py",
   "mimetype": "text/x-python",
   "name": "python",
   "nbconvert_exporter": "python",
   "pygments_lexer": "ipython3",
   "version": "3.7.6"
  }
 },
 "nbformat": 4,
 "nbformat_minor": 4
}
